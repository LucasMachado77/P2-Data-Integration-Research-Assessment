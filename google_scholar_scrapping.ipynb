{
 "cells": [
  {
   "cell_type": "code",
   "execution_count": null,
   "id": "32ce7267-a927-447f-b660-561c2196a424",
   "metadata": {},
   "outputs": [],
   "source": [
    "!pip install scholarly"
   ]
  },
  {
   "cell_type": "code",
   "execution_count": null,
   "id": "cca8cef7-1ffb-4489-8202-5bffd95057b6",
   "metadata": {},
   "outputs": [],
   "source": [
    "from scholarly import scholarly\n",
    "\n",
    "author = scholarly.search_author_id('WT5afVUAAAAJ')\n",
    "author_filled = scholarly.fill(author)\n",
    "\n",
    "print(\"Nome:\", author_filled['name'])\n",
    "print(\"Citações:\", author_filled['citedby'])\n",
    "print(\"H-index:\", author_filled['hindex'])\n",
    "print(\"i10-index:\", author_filled['i10index'])\n",
    "print(\"Número de publicações:\", len(author_filled['publications']))"
   ]
  },
  {
   "cell_type": "code",
   "execution_count": null,
   "id": "b6068f59-a9dd-48c3-8a7f-ee6de6d71d86",
   "metadata": {},
   "outputs": [],
   "source": [
    "from scholarly import scholarly\n",
    "\n",
    "def busca_metrica_nome(nome_busca):\n",
    "    try:\n",
    "        search_query = scholarly.search_author(nome_busca)\n",
    "        author = next(search_query, None)\n",
    "        if not author:\n",
    "            return {'Nome': nome_busca, 'Citações': '', 'H-index': '', 'i10-index': '', 'N_Publicacoes': '', 'Status': 'Não encontrado'}\n",
    "        author_filled = scholarly.fill(author)\n",
    "        return {\n",
    "            'Nome': author_filled['name'],\n",
    "            'Afiliacao': author_filled.get('affiliation',''),\n",
    "            'Citações': author_filled.get('citedby',''),\n",
    "            'H-index': author_filled.get('hindex',''),\n",
    "            'i10-index': author_filled.get('i10index',''),\n",
    "            'N_Publicacoes': len(author_filled.get('publications', [])),\n",
    "            'Status': 'OK'\n",
    "        }\n",
    "    except Exception as e:\n",
    "        return {'Nome': nome_busca, 'Citações': '', 'H-index': '', 'i10-index': '', 'N_Publicacoes': '', 'Status': f'Erro: {e}'}\n",
    "\n",
    "import pandas as pd\n",
    "\n",
    "# Carregue a lista de nomes do seu csv de docentes\n",
    "df = pd.read_csv('corpo_docente_limpo.csv')\n",
    "nomes = df['Nome'].tolist()  # Ou ajuste para o nome da coluna real\n",
    "\n",
    "resultados = []\n",
    "for nome in nomes:\n",
    "    # Você pode tentar: \"Nome IPT Portugal\" para aumentar a chance de acerto\n",
    "    resultado = busca_metrica_nome(f\"{nome} IPT Portugal\")\n",
    "    resultados.append(resultado)\n",
    "\n",
    "pd.DataFrame(resultados).to_excel(\"google_scholar_busca_automatica.xlsx\", index=False)\n",
    "print(\"Busca automática concluída. Confira se os nomes batem com os docentes!\")\n"
   ]
  },
  {
   "cell_type": "code",
   "execution_count": null,
   "id": "9faf01c1-ed47-44db-9ec3-176fdee6e596",
   "metadata": {},
   "outputs": [],
   "source": []
  }
 ],
 "metadata": {
  "kernelspec": {
   "display_name": "Python 3 (ipykernel)",
   "language": "python",
   "name": "python3"
  },
  "language_info": {
   "codemirror_mode": {
    "name": "ipython",
    "version": 3
   },
   "file_extension": ".py",
   "mimetype": "text/x-python",
   "name": "python",
   "nbconvert_exporter": "python",
   "pygments_lexer": "ipython3",
   "version": "3.13.5"
  }
 },
 "nbformat": 4,
 "nbformat_minor": 5
}
